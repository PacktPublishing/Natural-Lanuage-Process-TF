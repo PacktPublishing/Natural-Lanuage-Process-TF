{
 "cells": [
  {
   "cell_type": "markdown",
   "metadata": {},
   "source": [
    "# Chapter 3: Learning Distributed Word Embeddings and Using Them for NLP"
   ]
  },
  {
   "cell_type": "markdown",
   "metadata": {},
   "source": [
    "<p>In this notebook, you'll learn to load texts into Tensorflow by converting words to numbers. \n",
    "You'll learn how to train Latent Semantic Analysis (LSA) representations of words and documents using sklearn's TruncatedSVD method. You'll next train distributed word representations, also known as word embeddings, by \n",
    "building your first tensorflow neural network for NLP. You'll compare these word embeddings to similar representations\n",
    "built with Latent Semantic Indexing (LSI). You'll learn how to save your embeddings for re-use, and how to load\n",
    "pre-trained embeddings which you borrow from the cloud. Finally, you'll learn how to use pre-trained embeddings\n",
    "for your first NLP task, categorizing documents. Along the way we'll point out many foundational techniques \n",
    "for NLP which will be helpful for you as your skills increase.</p>"
   ]
  },
  {
   "cell_type": "markdown",
   "metadata": {},
   "source": [
    "## Table of Contents\n",
    "(Internal Links)"
   ]
  },
  {
   "cell_type": "markdown",
   "metadata": {},
   "source": [
    "## General Imports"
   ]
  },
  {
   "cell_type": "code",
   "execution_count": 1,
   "metadata": {},
   "outputs": [],
   "source": [
    "import nltk\n",
    "import sklearn\n",
    "import numpy as np\n",
    "from nltk.tokenize import word_tokenize\n",
    "import os\n",
    "import numpy as np\n",
    "import tensorflow as tf\n",
    "import gensim\n",
    "import spacy"
   ]
  },
  {
   "cell_type": "markdown",
   "metadata": {},
   "source": [
    "## Learn How to Load, Explore, and Preprocess Text Corpus"
   ]
  },
  {
   "cell_type": "markdown",
   "metadata": {},
   "source": [
    "We'll use some of our own functions to explore the text of Moby Dick, before we start applying deep learning to it.\n",
    "Tip: Make sure you've downloaded the NLTK text corpora following the directions at <a href=\"https://www.nltk.org/data.html\">https://www.nltk.org/data.html</a>"
   ]
  },
  {
   "cell_type": "markdown",
   "metadata": {},
   "source": [
    "### Tour of Toolsets to Prepare Data"
   ]
  },
  {
   "cell_type": "markdown",
   "metadata": {},
   "source": [
    "#### NLTK"
   ]
  },
  {
   "cell_type": "code",
   "execution_count": null,
   "metadata": {},
   "outputs": [],
   "source": [
    "#Let's use the text of Melville's novel Moby Dick as our corpus. We'll load it from the NLTK corpus library.\n",
    "#Here's what the first couple sentences look like:\n",
    "i = 0\n",
    "for s in nltk.corpus.gutenberg.sents('melville-moby_dick.txt'):\n",
    "    i += 1\n",
    "    print(s)\n",
    "    if i > 3:\n",
    "        break"
   ]
  },
  {
   "cell_type": "code",
   "execution_count": null,
   "metadata": {},
   "outputs": [],
   "source": [
    "#Find Melville's longest sentence.  Warning: it's long indeed!\n",
    "longestLen = 0\n",
    "longest = []\n",
    "for s in nltk.corpus.gutenberg.sents('melville-moby_dick.txt'):\n",
    "    thisLen = len(s)\n",
    "    if thisLen > longestLen:\n",
    "        longest = s\n",
    "        longestLen = thisLen\n",
    "print(longest)\n",
    "print(\"Longest sentence length = {}\".format(longestLen))"
   ]
  },
  {
   "cell_type": "code",
   "execution_count": null,
   "metadata": {},
   "outputs": [],
   "source": [
    "#How about the longest word?\n",
    "wlen = 0\n",
    "longest = ''\n",
    "for w in nltk.corpus.gutenberg.words('melville-moby_dick.txt'):\n",
    "    if len(w) > wlen:\n",
    "        longest = w\n",
    "        wlen = len(w)\n",
    "print(longest)"
   ]
  },
  {
   "cell_type": "code",
   "execution_count": 2,
   "metadata": {},
   "outputs": [
    {
     "name": "stdout",
     "output_type": "stream",
     "text": [
      "There are 260819 word tokens in Moby Dick, of which 17129 are unique types.\n",
      "Most common words in Moby Dick excluding stop words:\n",
      "------------------------------\n",
      "[('i', 2124), ('whale', 1226), ('one', 921), ('the', 710), ('but', 705), ('like', 647), ('upon', 566), ('man', 527), ('ship', 518), ('ahab', 511)]\n"
     ]
    }
   ],
   "source": [
    "#Let's count how many unique words are in Moby Dick.\n",
    "#We lower-case them first and remove punctuation. Here we're using the python string.lower() method and\n",
    "#a home-rolled punctuation stripper to do this normalization. In other NLP tasks you'll do additional\n",
    "#type of normalization including stripping non-ascii characters (pre-processing), stemming, and PoS tagging.\n",
    "from nltk import FreqDist\n",
    "from Chapter_03_utils import isPunctuation #Home-brewed function to test if token is punctuation\n",
    "\n",
    "mobyDickWords = FreqDist(w.lower() for w in nltk.corpus.gutenberg.words('melville-moby_dick.txt') if ((isPunctuation(w) == False ) and (w not in nltk.corpus.stopwords.words('english'))))\n",
    "print(\"There are {} word tokens in Moby Dick, of which {} are unique types.\".format(len(nltk.corpus.gutenberg.words('melville-moby_dick.txt')),len(mobyDickWords)))\n",
    "print(\"Most common words in Moby Dick excluding stop words:\")\n",
    "print(\"-\" * 30)\n",
    "print(mobyDickWords.most_common(10))\n"
   ]
  },
  {
   "cell_type": "markdown",
   "metadata": {},
   "source": [
    "#### Gensim"
   ]
  },
  {
   "cell_type": "code",
   "execution_count": null,
   "metadata": {},
   "outputs": [],
   "source": [
    "#Use gensim to get same results\n",
    "\n",
    "texts = [[w.lower() for w in s if ((isPunctuation(w) == False ) and (w not in nltk.corpus.stopwords.words('english')))]  \n",
    "                                               for s in nltk.corpus.gutenberg.sents('melville-moby_dick.txt')]\n",
    "from collections import defaultdict #The nice thing about defaultdict objects is you don't have to initialize their values\n",
    "frequencies = defaultdict(int)\n",
    "for text in texts:\n",
    "    for token in text:\n",
    "        frequencies[token] += 1"
   ]
  },
  {
   "cell_type": "code",
   "execution_count": null,
   "metadata": {},
   "outputs": [],
   "source": [
    "#Take advantage of the heapq structure to choose the words with highest counts\n",
    "import heapq\n",
    "print(heapq.nlargest(10, frequencies.items(), key=lambda x : x[1]))"
   ]
  },
  {
   "cell_type": "code",
   "execution_count": null,
   "metadata": {},
   "outputs": [],
   "source": [
    "#Take advantage of gensim Dictionary object to make an efficient mapping between terms and integer ids\n",
    "gensim_dictionary = gensim.corpora.Dictionary(texts)                                                                    \n",
    "print(\"The dictionary has: \" +str(len(gensim_dictionary)) + \" tokens\")\n",
    "\n",
    "for (i, (k, v)) in enumerate(gensim_dictionary.token2id.items()):\n",
    "     if i < 10:\n",
    "        print(f'{k:{15}} {v:{10}}')"
   ]
  },
  {
   "cell_type": "markdown",
   "metadata": {},
   "source": [
    "#### SpaCy"
   ]
  },
  {
   "cell_type": "code",
   "execution_count": null,
   "metadata": {},
   "outputs": [],
   "source": [
    "#Peek into spaCy\n",
    "# Load English tokenizer, tagger, parser, NER and word vectors\n",
    "nlp = spacy.load(\"en_core_web_sm\")"
   ]
  },
  {
   "cell_type": "code",
   "execution_count": null,
   "metadata": {},
   "outputs": [],
   "source": [
    "raw_text = nltk.corpus.gutenberg.raw('melville-moby_dick.txt')[:100000]\n",
    "doc = nlp(raw_text)\n",
    "\n",
    "# Analyze syntax: examine most frequent verbs\n",
    "verbFrequencies = defaultdict(int)\n",
    "for token in doc:\n",
    "    if token.pos_ == 'VERB':\n",
    "        verbFrequencies[token.lemma_] += 1\n",
    "print(heapq.nlargest(10, verbFrequencies.items(), key=lambda x : x[1]))"
   ]
  },
  {
   "cell_type": "markdown",
   "metadata": {},
   "source": [
    "## Convert words to numbers\n",
    "<i>This is the first step in preparing the text data to be fed into a neural network or other machine learning model.</i>"
   ]
  },
  {
   "cell_type": "code",
   "execution_count": null,
   "metadata": {},
   "outputs": [],
   "source": [
    "#Explore bag-of-words vectors for the first few sentences of Moby Dick\n",
    "sentences = [s for (i, s) in enumerate(nltk.corpus.gutenberg.sents('melville-moby_dick.txt')) if i in [2, 3]]\n",
    "print(sentences)"
   ]
  },
  {
   "cell_type": "code",
   "execution_count": null,
   "metadata": {},
   "outputs": [],
   "source": [
    "#Tabulate the vocabulary of this mini-corpus so we can use it to create the vectorizer\n",
    "vocabulary_lists = [[w.lower() for w in s if isPunctuation(w) == False] for s in sentences]\n",
    "vocabulary = set([item for sublist in vocabulary_lists for item in sublist])\n",
    "print(vocabulary)"
   ]
  },
  {
   "cell_type": "code",
   "execution_count": null,
   "metadata": {},
   "outputs": [],
   "source": [
    "#Vectorize using bag-of-words representations for each document\n",
    "from sklearn.feature_extraction.text import CountVectorizer\n",
    "vectorizer = CountVectorizer(binary=True, tokenizer=lambda doc: doc, preprocessor=None, vocabulary=vocabulary, lowercase=False)\n",
    "tdm = vectorizer.transform(vocabulary_lists)\n",
    "print(tdm.shape)\n",
    "print(vectorizer.get_feature_names())\n",
    "print(tdm.todense()[0])"
   ]
  },
  {
   "cell_type": "markdown",
   "metadata": {},
   "source": [
    "## Train Latent Semantic Index Word Representations from Corpus"
   ]
  },
  {
   "cell_type": "markdown",
   "metadata": {},
   "source": [
    "Taking our inspiration from:\n",
    "<a href=\"https://roshansanthosh.wordpress.com/2016/02/18/evaluating-term-and-document-similarity-using-latent-semantic-analysis/\">Evaluating Term and Document Similarity Using Latent Semantic Analysis</a>"
   ]
  },
  {
   "cell_type": "code",
   "execution_count": 3,
   "metadata": {},
   "outputs": [],
   "source": [
    "#Import some relevant packages\n",
    "from sklearn.decomposition import TruncatedSVD\n",
    "from sklearn.feature_extraction.text import TfidfVectorizer"
   ]
  },
  {
   "cell_type": "code",
   "execution_count": 4,
   "metadata": {},
   "outputs": [
    {
     "name": "stdout",
     "output_type": "stream",
     "text": [
      "['i', 'whale', 'one', 'the', 'but', 'like', 'upon', 'man', 'ship', 'ahab']\n"
     ]
    }
   ],
   "source": [
    "#Make termXdocument matrix from top 10000 words\n",
    "vocab = [t for (t, f) in mobyDickWords.most_common(10000)]\n",
    "print(vocab[:10])"
   ]
  },
  {
   "cell_type": "code",
   "execution_count": 5,
   "metadata": {},
   "outputs": [],
   "source": [
    "#Create a sparse vectorizer using TFIDF weights and the vocab list we just created\n",
    "sparseVectorizer = TfidfVectorizer(vocabulary = vocab, tokenizer=lambda doc: doc, use_idf=True, lowercase=False)"
   ]
  },
  {
   "cell_type": "code",
   "execution_count": 6,
   "metadata": {},
   "outputs": [],
   "source": [
    "#Start transforming Moby Dick from raw form into a corpus of documents we can feed into the TruncatedSVD\n",
    "# fetch a list of sentences\n",
    "sentences = [s for s in nltk.corpus.gutenberg.sents('melville-moby_dick.txt')]"
   ]
  },
  {
   "cell_type": "code",
   "execution_count": 7,
   "metadata": {},
   "outputs": [
    {
     "name": "stdout",
     "output_type": "stream",
     "text": [
      "[['[', 'moby', 'dick', 'by', 'herman', 'melville', '1851', ']'], ['etymology']]\n"
     ]
    }
   ],
   "source": [
    "# Preprocess: lowercase and remove punctuation\n",
    "docs = [[w.lower() for w in s if isPunctuation(w) == False] for s in sentences]\n",
    "print(docs[:2])"
   ]
  },
  {
   "cell_type": "code",
   "execution_count": 8,
   "metadata": {},
   "outputs": [
    {
     "name": "stdout",
     "output_type": "stream",
     "text": [
      "(10059, 10000)\n"
     ]
    }
   ],
   "source": [
    "#Create the term X document matrix from the list of pre-processed sentences \n",
    "X = sparseVectorizer.fit_transform(docs)\n",
    "print(X.shape)"
   ]
  },
  {
   "cell_type": "code",
   "execution_count": 9,
   "metadata": {},
   "outputs": [],
   "source": [
    "#Import sklearn pipeline class and Normalizer function\n",
    "from sklearn.pipeline import make_pipeline\n",
    "from sklearn.preprocessing import Normalizer\n",
    "svd = TruncatedSVD(n_components = 100, algorithm=\"arpack\")\n",
    "lsa = make_pipeline(svd, Normalizer(copy=False))"
   ]
  },
  {
   "cell_type": "code",
   "execution_count": 10,
   "metadata": {},
   "outputs": [
    {
     "name": "stdout",
     "output_type": "stream",
     "text": [
      "(10059, 10000)\n",
      "(10000, 100)\n"
     ]
    }
   ],
   "source": [
    "#Reduce the dimensionality of the sparse matrix using LSA\n",
    "lsa_X = lsa.fit_transform(X.T)\n",
    "print(X.shape)\n",
    "print(lsa_X.shape)"
   ]
  },
  {
   "cell_type": "code",
   "execution_count": 11,
   "metadata": {},
   "outputs": [],
   "source": [
    "def getClosestTerm(term,transformer,model):\n",
    " \n",
    "    index = transformer.vocabulary_[term]      \n",
    " \n",
    "    model = np.dot(model,model.T)\n",
    "    searchSpace =np.concatenate( (model[index][:index] , model[index][(index+1):]) )  \n",
    " \n",
    "    out = np.argmax(searchSpace)\n",
    " \n",
    "    if out<index:\n",
    "        return transformer.get_feature_names()[out]\n",
    "    else:\n",
    "        return transformer.get_feature_names()[(out+1)]\n",
    " "
   ]
  },
  {
   "cell_type": "code",
   "execution_count": 12,
   "metadata": {},
   "outputs": [],
   "source": [
    "def kClosestTerms(k,term,transformer,model):\n",
    " \n",
    "    index = transformer.vocabulary_[term]\n",
    " \n",
    "    model = np.dot(model,model.T)\n",
    " \n",
    "    closestTerms = {}\n",
    "    for i in range(len(model)):\n",
    "        if i != index:\n",
    "            closestTerms[transformer.get_feature_names()[i]] = model[index][i]\n",
    " \n",
    "    sortedList = sorted(closestTerms , key= lambda l : closestTerms[l], reverse=True)\n",
    "    \n",
    "    return(sortedList[:10])"
   ]
  },
  {
   "cell_type": "code",
   "execution_count": 14,
   "metadata": {},
   "outputs": [
    {
     "data": {
      "text/plain": [
       "['gritted',\n",
       " 'advancing',\n",
       " 'yelled',\n",
       " 'cares',\n",
       " 'unmindful',\n",
       " 'loadstone',\n",
       " 'slouched',\n",
       " 'courageous',\n",
       " 'enter',\n",
       " 'parsee']"
      ]
     },
     "execution_count": 14,
     "metadata": {},
     "output_type": "execute_result"
    }
   ],
   "source": [
    "#What has the LSA model learned about Ahab?\n",
    "(kClosestTerms(8, 'ahab', sparseVectorizer, lsa_X))"
   ]
  },
  {
   "cell_type": "code",
   "execution_count": null,
   "metadata": {},
   "outputs": [],
   "source": [
    "print([d for d in docs if 'gritted' in d])"
   ]
  },
  {
   "cell_type": "code",
   "execution_count": 13,
   "metadata": {},
   "outputs": [
    {
     "data": {
      "text/plain": [
       "['wharton',\n",
       " 'fossil',\n",
       " 'icelandic',\n",
       " 'sulphur',\n",
       " 'sperm',\n",
       " 'greenland',\n",
       " 'indiscriminately',\n",
       " 'cachalot',\n",
       " 'tusked',\n",
       " 'designated']"
      ]
     },
     "execution_count": 13,
     "metadata": {},
     "output_type": "execute_result"
    }
   ],
   "source": [
    "#What has the lsa model learned about whales?\n",
    "kClosestTerms(8, 'whale', sparseVectorizer, lsa_X)"
   ]
  },
  {
   "cell_type": "code",
   "execution_count": 38,
   "metadata": {},
   "outputs": [
    {
     "name": "stdout",
     "output_type": "stream",
     "text": [
      "17\n"
     ]
    }
   ],
   "source": [
    "print(len([d for d in docs if 'animal' in d]))"
   ]
  },
  {
   "cell_type": "markdown",
   "metadata": {},
   "source": [
    "## Train Deep Network for Word Embeddings\n",
    "<i>Thanks to <a href=\"https://adventuresinmachinelearning.com/word2vec-keras-tutorial/\">Adventures in Deep Learning's blog</a> for inspiring this section.</i>"
   ]
  },
  {
   "cell_type": "markdown",
   "metadata": {},
   "source": [
    "### Specialized Imports"
   ]
  },
  {
   "cell_type": "code",
   "execution_count": 18,
   "metadata": {},
   "outputs": [],
   "source": [
    "from tensorflow.keras.models import Model\n",
    "from tensorflow.keras.layers import Input, Dense, Reshape, dot\n",
    "from tensorflow.keras.layers import Embedding\n",
    "from tensorflow.keras.preprocessing.sequence import skipgrams\n",
    "from tensorflow.keras.preprocessing import sequence\n",
    "from Chapter_03_utils import build_dataset\n",
    "from nltk import FreqDist, word_tokenize\n",
    "from nltk.corpus import gutenberg #Corpus readers for various literary texts\n",
    "from Chapter_03_utils import isPunctuation #Home-brewed function to test if token is punctuation\n",
    "from Chapter_03_utils import SimilarityCallback"
   ]
  },
  {
   "cell_type": "markdown",
   "metadata": {},
   "source": [
    "### Constants and Magic Numbers\n",
    "To be used throughout the embeddings network training"
   ]
  },
  {
   "cell_type": "code",
   "execution_count": 19,
   "metadata": {},
   "outputs": [],
   "source": [
    "vocabSize = 2000 #How many words should we include as input?  Top n-most frequent\n",
    "windowSize = 3 #How many context words should be included on either side of the target word when choosing the skipgram pairs\n",
    "vectorDim = 300 #How many dimensions are included in the embedding space\n",
    "epochs = 10000 #Number of training epochs\n",
    "evalSetSize = 16     # Random set of words to evaluate similarity on.\n",
    "evalSetWindow = 100  # Only pick similarity evaluation samples from the head of the distribution (frequent terms)."
   ]
  },
  {
   "cell_type": "code",
   "execution_count": 20,
   "metadata": {},
   "outputs": [],
   "source": [
    "#Function to build lexical resources for deep learning network\n",
    "def collect_data(corpusName, vocabulary_size=10000):\n",
    "    '''\n",
    "    learn and return a list of integer codes corresponding to the words of the text,\n",
    "    the term frequencies, and a regular and reverse dictionary of terms and integer codes.\n",
    "    Modified from https://adventuresinmachinelearning.com/word2vec-keras-tutorial/\n",
    "    '''\n",
    "    #Retrieve the requested text from the NLTK corpora collections\n",
    "    words = [w.lower() for w in nltk.corpus.gutenberg.words(corpusName) if isPunctuation(w) == False]\n",
    "    print(words[:7])\n",
    "    data, count, dictionary, reverse_dictionary = build_dataset(words,\n",
    "                                                                vocabulary_size)\n",
    "    del words  # Hint to reduce memory.\n",
    "    return data, count, dictionary, reverse_dictionary"
   ]
  },
  {
   "cell_type": "markdown",
   "metadata": {},
   "source": [
    "### Collect data from corpus, encode, build lexical resources"
   ]
  },
  {
   "cell_type": "code",
   "execution_count": 21,
   "metadata": {},
   "outputs": [
    {
     "name": "stdout",
     "output_type": "stream",
     "text": [
      "['[', 'moby', 'dick', 'by', 'herman', 'melville', '1851']\n",
      "[0, 280, 281, 23, 0, 0, 0]\n"
     ]
    }
   ],
   "source": [
    "#Convert the raw text data into a list of integer codes, a frequency distribution of the terms, and a\n",
    "# dictionary and reverse_dictionary of terms:integer_codes\n",
    "data, count, dictionary, reverse_dictionary = collect_data('melville-moby_dick.txt', vocabulary_size=vocabSize)\n",
    "print(data[:7])"
   ]
  },
  {
   "cell_type": "code",
   "execution_count": 22,
   "metadata": {},
   "outputs": [],
   "source": [
    "#Choose n number of indices from the top m most frequent terms to use to test similarity at different points in the training\n",
    "evalExamples = np.random.choice(evalSetWindow, evalSetSize, replace=False)"
   ]
  },
  {
   "cell_type": "markdown",
   "metadata": {},
   "source": [
    "### Sample pairs of term-integer codes as skipgrams (target term, context term)"
   ]
  },
  {
   "cell_type": "code",
   "execution_count": 23,
   "metadata": {},
   "outputs": [
    {
     "name": "stdout",
     "output_type": "stream",
     "text": [
      "[[65, 4], [892, 1328], [12, 6], [81, 35], [379, 1284], [730, 6], [993, 375], [1982, 57], [1627, 258], [1045, 1975]] [1, 0, 1, 1, 1, 1, 1, 1, 1, 0]\n"
     ]
    }
   ],
   "source": [
    "#Now build the list of skipgrams to use for training, both positive and negative examples\n",
    "#Sampling frequencies for positive and negative skipgrams examples\n",
    "sampling_table = sequence.make_sampling_table(vocabSize)\n",
    "skipgramPairs, labels = skipgrams(data, vocabSize, window_size=windowSize, sampling_table=sampling_table)\n",
    "word_target, word_context = zip(*skipgramPairs)\n",
    "word_target = np.array(word_target, dtype=\"int32\")\n",
    "word_context = np.array(word_context, dtype=\"int32\")\n",
    "\n",
    "print(skipgramPairs[:10], labels[:10])"
   ]
  },
  {
   "cell_type": "code",
   "execution_count": 26,
   "metadata": {},
   "outputs": [
    {
     "data": {
      "text/plain": [
       "80699"
      ]
     },
     "execution_count": 26,
     "metadata": {},
     "output_type": "execute_result"
    }
   ],
   "source": [
    "len([l for l in labels if l==0])"
   ]
  },
  {
   "cell_type": "code",
   "execution_count": 77,
   "metadata": {},
   "outputs": [
    {
     "name": "stdout",
     "output_type": "stream",
     "text": [
      "from\n",
      "captains\n"
     ]
    }
   ],
   "source": [
    "#Substitute numbers found in the cell above\n",
    "print(reverse_dictionary[25])\n",
    "print(reverse_dictionary[883])"
   ]
  },
  {
   "cell_type": "code",
   "execution_count": 78,
   "metadata": {},
   "outputs": [
    {
     "name": "stdout",
     "output_type": "stream",
     "text": [
      "look\n",
      "they\n"
     ]
    }
   ],
   "source": [
    "print(reverse_dictionary[141])\n",
    "print(reverse_dictionary[38])"
   ]
  },
  {
   "cell_type": "code",
   "execution_count": 41,
   "metadata": {},
   "outputs": [
    {
     "name": "stdout",
     "output_type": "stream",
     "text": [
      "['As', 'it', 'is', ',', 'parts', 'of', 'her', 'back', 'country', 'are', 'enough', 'to', 'frighten', 'one', ',', 'they', 'look', 'so', 'bony', '.']\n",
      "['\"', 'I', 'look', ',', 'you', 'look', ',', 'he', 'looks', ';', 'we', 'look', ',', 'ye', 'look', ',', 'they', 'look', '.\"']\n",
      "['\"', 'I', 'look', ',', 'you', 'look', ',', 'he', 'looks', ';', 'we', 'look', ',', 'ye', 'look', ',', 'they', 'look', '.\"']\n",
      "['\"', 'I', 'look', ',', 'you', 'look', ',', 'he', 'looks', ';', 'we', 'look', ',', 'ye', 'look', ',', 'they', 'look', '.\"']\n"
     ]
    }
   ],
   "source": [
    "#Reassure yourself that the labeling of the skipgrams is accurate\n",
    "from Chapter_03_utils import is_Sublist\n",
    "for s in nltk.corpus.gutenberg.sents('melville-moby_dick.txt'):\n",
    "    if is_Sublist(s, ['they', 'look'])==True:\n",
    "        print(s)"
   ]
  },
  {
   "cell_type": "markdown",
   "metadata": {},
   "source": [
    "### Define and build input layers using tf.keras functional API"
   ]
  },
  {
   "cell_type": "markdown",
   "metadata": {},
   "source": [
    "<p>We're doing several tricky things here.  First, we're using the tf.keras functional api to define our model because we have two separate input laters, so the standard Sequential() api won't work for us. We instantiate each layer as a fucntion call whose argument is the list of layers feeding it.</p>\n",
    "<p>Secondly we define a separate model -- the similarityModel -- which we don't compile and train separately. We just hook it up to our SimilarityCallback function, so we can test word similarity at different points during the training to see how much our network has learned.</p>"
   ]
  },
  {
   "cell_type": "code",
   "execution_count": 27,
   "metadata": {},
   "outputs": [],
   "source": [
    "# create 2 input layers with one input node each, for the skipgram target and context word codes\n",
    "input_target = Input((1,), name=\"input_target\")\n",
    "input_context = Input((1,), name=\"input_context\")"
   ]
  },
  {
   "cell_type": "code",
   "execution_count": 28,
   "metadata": {},
   "outputs": [],
   "source": [
    "#Create the embedding layer and two lookup layers for target and context\n",
    "embedding = Embedding(vocabSize, vectorDim, input_length=1, name='embedding')\n",
    "target = embedding(input_target)\n",
    "reshaped_target = Reshape((vectorDim, 1), name=\"reshaped_target_embedding\")(target)\n",
    "context = embedding(input_context)\n",
    "reshaped_context = Reshape((vectorDim, 1), name=\"reshaped_context_embedding\")(context)"
   ]
  },
  {
   "cell_type": "code",
   "execution_count": 29,
   "metadata": {},
   "outputs": [],
   "source": [
    "# Define cosine similarity operation which will be output in a secondary model\n",
    "similarity = dot([reshaped_target, reshaped_context], axes=1, normalize=True)"
   ]
  },
  {
   "cell_type": "code",
   "execution_count": 30,
   "metadata": {},
   "outputs": [],
   "source": [
    "# Create dot product layer for main model to get a similarity measure between target embedding and context embedding\n",
    "dot_product = dot([reshaped_target, reshaped_context], axes=1, normalize=False, name=\"dot_product\")\n",
    "reshaped_dot_product = Reshape((1,), name=\"reshaped_dot_product\")(dot_product)"
   ]
  },
  {
   "cell_type": "code",
   "execution_count": 31,
   "metadata": {},
   "outputs": [],
   "source": [
    "# add the sigmoid output layer\n",
    "output = Dense(1, activation='sigmoid', name=\"output\")(reshaped_dot_product)"
   ]
  },
  {
   "cell_type": "code",
   "execution_count": 32,
   "metadata": {},
   "outputs": [],
   "source": [
    "# create the primary training model\n",
    "learningModel = Model(inputs=[input_target, input_context], outputs=output, name=\"learningModel\")\n",
    "learningModel.compile(loss='binary_crossentropy', optimizer='adam')"
   ]
  },
  {
   "cell_type": "code",
   "execution_count": 33,
   "metadata": {},
   "outputs": [],
   "source": [
    "# create a secondary validation model to run our similarity checks during training\n",
    "similarityModel = Model(inputs=[input_target, input_context], outputs=similarity, name=\"similarityModel\")\n",
    "sim_cb = SimilarityCallback()"
   ]
  },
  {
   "cell_type": "code",
   "execution_count": 34,
   "metadata": {},
   "outputs": [
    {
     "data": {
      "image/png": "[encoded data removed]",
      "text/plain": [
       "<IPython.core.display.Image object>"
      ]
     },
     "execution_count": 34,
     "metadata": {},
     "output_type": "execute_result"
    }
   ],
   "source": [
    "#Tip: Make sure you install pyplot and graphviz before attempting this step\n",
    "from tensorflow.keras.utils import plot_model\n",
    "plot_model(learningModel, to_file='model.png')"
   ]
  },
  {
   "cell_type": "markdown",
   "metadata": {},
   "source": [
    "### Train Network with Skipgram Samples from Corpus"
   ]
  },
  {
   "cell_type": "code",
   "execution_count": 99,
   "metadata": {},
   "outputs": [
    {
     "name": "stdout",
     "output_type": "stream",
     "text": [
      "Iteration 0, loss=0.7088454961776733\n",
      "Nearest to ahab: narrative, experienced, rushing, pull, huge, thin, indian, i,\n",
      "Nearest to whale: mountains, fly, old, thrown, manner, this, object, pictures,\n",
      "Nearest to harpoon: though, crews, than, oceans, like, dangerous, covered, sight,\n",
      "Nearest to boy: waist, instead, mouth, swallow, forget, owners, are, felt,\n",
      "Nearest to coffin: shoulders, held, wanting, yet, cases, forget, breath, often,\n",
      "Nearest to captain: north, utmost, otherwise, news, account, fitted, fish, joy,\n",
      "Nearest to t: keel, always, indispensable, objects, passing, invariably, how, beholding,\n",
      "Nearest to it: moment, any, over, bearing, death, early, an, prodigious,\n",
      "Nearest to him: boiling, bildad, fate, piled, wrinkles, awe, nay, born,\n",
      "Nearest to for: belong, regularly, smoking, dat, darting, drowned, held, striking,\n",
      "Nearest to very: hump, coat, consider, placed, leap, tongue, look, while,\n",
      "Nearest to there: canoe, bulk, mean, directly, fashioned, lighted, madness, swift,\n",
      "Nearest to other: creatures, hook, know, order, horizon, dry, naturalists, eh,\n",
      "Nearest to were: darkness, thunder, mast, worship, dough, horizon, use, none,\n",
      "Nearest to its: shape, naught, nailed, country, burn, utterly, friends, easy,\n",
      "Nearest to from: leave, exactly, delight, poles, inserted, sight, having, dead,\n",
      "Nearest to by: points, killed, called, worship, downwards, leap, interest, malice,\n",
      "Nearest to some: lighted, oh, unearthly, crossed, dinner, dived, order, want,\n",
      "Nearest to with: sake, cuvier, account, fair, voyages, downwards, bildad, fathoms,\n",
      "Nearest to is: precise, drowned, sea, ago, fall, missing, ball, wine,\n",
      "Nearest to at: every, nameless, upwards, presently, more, our, steady, company,\n",
      "Iteration 100, loss=0.6872924566268921\n",
      "Iteration 200, loss=0.7039435505867004\n",
      "Iteration 300, loss=0.6680206656455994\n",
      "Iteration 400, loss=0.6781436204910278\n",
      "Iteration 500, loss=0.692497968673706\n",
      "Iteration 600, loss=0.6819577217102051\n",
      "Iteration 700, loss=0.6996947526931763\n",
      "Iteration 800, loss=0.6714798808097839\n",
      "Iteration 900, loss=0.7042554616928101\n",
      "Iteration 1000, loss=0.6541908383369446\n",
      "Iteration 1100, loss=0.680022656917572\n",
      "Iteration 1200, loss=0.6225581169128418\n",
      "Iteration 1300, loss=0.728013813495636\n",
      "Iteration 1400, loss=0.69218909740448\n",
      "Iteration 1500, loss=0.699517011642456\n",
      "Iteration 1600, loss=0.6894133687019348\n",
      "Iteration 1700, loss=0.7527467608451843\n",
      "Iteration 1800, loss=0.6126388311386108\n",
      "Iteration 1900, loss=0.7168189883232117\n",
      "Iteration 2000, loss=0.6968494653701782\n",
      "Iteration 2100, loss=0.7354215979576111\n",
      "Iteration 2200, loss=0.7348564863204956\n",
      "Iteration 2300, loss=0.6904594302177429\n",
      "Iteration 2400, loss=0.6681756377220154\n",
      "Iteration 2500, loss=0.7466964721679688\n",
      "Iteration 2600, loss=0.6508572101593018\n",
      "Iteration 2700, loss=0.729053258895874\n",
      "Iteration 2800, loss=0.6235311627388\n",
      "Iteration 2900, loss=0.622930109500885\n",
      "Iteration 3000, loss=0.7453199028968811\n",
      "Iteration 3100, loss=0.6773476004600525\n",
      "Iteration 3200, loss=0.6480918526649475\n",
      "Iteration 3300, loss=0.7078723311424255\n",
      "Iteration 3400, loss=0.6526790261268616\n",
      "Iteration 3500, loss=0.6379191875457764\n",
      "Iteration 3600, loss=0.7097756266593933\n",
      "Iteration 3700, loss=0.8116834759712219\n",
      "Iteration 3800, loss=0.6737743020057678\n",
      "Iteration 3900, loss=0.616305410861969\n",
      "Iteration 4000, loss=0.6395037770271301\n",
      "Iteration 4100, loss=0.6678270101547241\n",
      "Iteration 4200, loss=0.6892566084861755\n",
      "Iteration 4300, loss=0.5897102952003479\n",
      "Iteration 4400, loss=0.5700677037239075\n",
      "Iteration 4500, loss=0.7144365310668945\n",
      "Iteration 4600, loss=0.6771503686904907\n",
      "Iteration 4700, loss=0.6842083930969238\n",
      "Iteration 4800, loss=0.5963500142097473\n",
      "Iteration 4900, loss=0.6851645708084106\n",
      "Iteration 5000, loss=0.7092967629432678\n",
      "Iteration 5100, loss=0.7091277241706848\n",
      "Iteration 5200, loss=0.9460023641586304\n",
      "Iteration 5300, loss=0.3668504059314728\n",
      "Iteration 5400, loss=1.0651448965072632\n",
      "Iteration 5500, loss=0.8244552612304688\n",
      "Iteration 5600, loss=0.5093317031860352\n",
      "Iteration 5700, loss=0.2108147144317627\n",
      "Iteration 5800, loss=0.7383754253387451\n",
      "Iteration 5900, loss=0.6353224515914917\n",
      "Iteration 6000, loss=0.8123080730438232\n",
      "Iteration 6100, loss=0.40048280358314514\n",
      "Iteration 6200, loss=0.6168349981307983\n",
      "Iteration 6300, loss=0.8265740275382996\n",
      "Iteration 6400, loss=0.7740430235862732\n",
      "Iteration 6500, loss=0.15484100580215454\n",
      "Iteration 6600, loss=0.15212295949459076\n",
      "Iteration 6700, loss=0.7895389795303345\n",
      "Iteration 6800, loss=0.7013892531394958\n",
      "Iteration 6900, loss=0.42801782488822937\n",
      "Iteration 7000, loss=0.859967827796936\n",
      "Iteration 7100, loss=0.5294708013534546\n",
      "Iteration 7200, loss=0.6517994999885559\n",
      "Iteration 7300, loss=0.5088953375816345\n",
      "Iteration 7400, loss=0.7022984027862549\n",
      "Iteration 7500, loss=0.7158076763153076\n",
      "Iteration 7600, loss=1.1625639200210571\n",
      "Iteration 7700, loss=0.7329424619674683\n",
      "Iteration 7800, loss=0.12268327176570892\n",
      "Iteration 7900, loss=0.6730496287345886\n",
      "Iteration 8000, loss=0.20992374420166016\n",
      "Iteration 8100, loss=1.292353630065918\n",
      "Iteration 8200, loss=0.790644109249115\n",
      "Iteration 8300, loss=0.823307454586029\n",
      "Iteration 8400, loss=0.78054279088974\n",
      "Iteration 8500, loss=0.7039279937744141\n",
      "Iteration 8600, loss=0.4772908091545105\n",
      "Iteration 8700, loss=0.5695093274116516\n",
      "Iteration 8800, loss=0.42328572273254395\n",
      "Iteration 8900, loss=0.5546597242355347\n",
      "Iteration 9000, loss=0.5849235653877258\n",
      "Iteration 9100, loss=0.2935824990272522\n",
      "Iteration 9200, loss=0.5100187659263611\n",
      "Iteration 9300, loss=0.4604877829551697\n",
      "Iteration 9400, loss=0.7331846952438354\n",
      "Iteration 9500, loss=0.9735109210014343\n",
      "Iteration 9600, loss=0.4694023132324219\n",
      "Iteration 9700, loss=0.314765602350235\n",
      "Iteration 9800, loss=0.7211884260177612\n",
      "Iteration 9900, loss=0.3152100443840027\n",
      "Nearest to ahab: nevertheless, whale, turning, erect, six, than, lonely, round,\n",
      "Nearest to whale: right, seas, ahab, the, large, animal, way, than,\n",
      "Nearest to harpoon: across, at, whose, fathoms, his, windlass, any, though,\n",
      "Nearest to boy: whole, oh, employed, weary, given, pains, stove, affair,\n",
      "Nearest to coffin: with, calmly, mrs, stranded, lean, grim, out, this,\n",
      "Nearest to captain: peleg, lad, nantucket, thou, latitude, never, fain, a,\n",
      "Nearest to t: didn, d, now, eh, you, ginger, won, that,\n",
      "Nearest to it: opposite, whenever, valuable, endless, happens, through, to, keeping,\n",
      "Nearest to him: wine, behold, must, alongside, hunt, derick, plenty, thinking,\n",
      "Nearest to for: gaze, grounds, set, considering, believe, cause, scarce, more,\n",
      "Nearest to very: slain, experienced, us, time, through, many, hammer, intent,\n",
      "Nearest to there: good, life, still, presented, for, here, up, parsee,\n",
      "Nearest to other: mentioned, think, flesh, any, than, beholding, days, the,\n",
      "Nearest to were: harpooneers, boats, dart, aloft, made, you, anything, that,\n",
      "Nearest to its: carved, rods, reached, each, duty, lying, sea, they,\n",
      "Nearest to from: wrinkles, iron, sharks, dragged, tub, look, straight, line,\n",
      "Nearest to by: tomahawk, three, dashed, silver, lie, whalemen, lower, places,\n",
      "Nearest to some: among, opposite, pushed, find, of, why, now, in,\n",
      "Nearest to with: coffin, leaving, calmly, intent, stubb, setting, out, keen,\n",
      "Nearest to is: whales, stubb, lad, thus, whalers, aft, land, whenever,\n",
      "Nearest to at: any, his, pumps, feel, intent, chap, taking, low,\n"
     ]
    }
   ],
   "source": [
    "#Finally, train the learning model, evaluating word similarity at specified epochs\n",
    "history = [] #Store loss for plotting\n",
    "arr_1 = np.zeros((1,))\n",
    "arr_2 = np.zeros((1,))\n",
    "arr_3 = np.zeros((1,))\n",
    "for cnt in range(epochs):\n",
    "       \n",
    "    idx = np.random.randint(0, len(labels)-1)\n",
    "    arr_1[0,] = word_target[idx]\n",
    "    arr_2[0,] = word_context[idx]\n",
    "    arr_3[0,] = labels[idx]\n",
    "\n",
    "    loss = learningModel.train_on_batch([arr_1, arr_2], arr_3)\n",
    "  \n",
    "    if cnt % 100 == 0:\n",
    "        print(\"Iteration {}, loss={}\".format(cnt, loss))\n",
    "        history.append((cnt, loss))\n",
    "    if cnt in [0, (epochs - 1)]:\n",
    "        for testWord in ['ahab', 'whale', 'harpoon', 'boy', 'coffin']:\n",
    "            sim_cb.probe_word(testWord, dictionary, reverse_dictionary, vocabSize, similarityModel)\n",
    "        sim_cb.run_sim(evalSetSize, evalExamples, reverse_dictionary, vocabSize, similarityModel)"
   ]
  },
  {
   "cell_type": "markdown",
   "metadata": {},
   "source": [
    "## Examine What the Network Has Learned"
   ]
  },
  {
   "cell_type": "code",
   "execution_count": null,
   "metadata": {},
   "outputs": [],
   "source": []
  },
  {
   "cell_type": "code",
   "execution_count": 133,
   "metadata": {},
   "outputs": [
    {
     "data": {
      "image/png": "[encoded data removed]",
      "text/plain": [
       "<Figure size 432x288 with 1 Axes>"
      ]
     },
     "metadata": {
      "needs_background": "light"
     },
     "output_type": "display_data"
    }
   ],
   "source": [
    "# Plot training & validation loss values\n",
    "\n",
    "import matplotlib.pyplot as plt\n",
    "N = 10\n",
    "losses = [l for (e,l) in history]\n",
    "epochs = [e for (e,l) in history]\n",
    "ma_epochs = [np.arange(0,9100, 100)]\n",
    "mae = np.reshape(ma_epochs, (91,))\n",
    "loss_line = plt.plot(epochs, losses)\n",
    "#Also plot the moving average, to show the trend more clearly\n",
    "mae_line = plt.plot(mae, np.convolve(losses, np.ones((N,))/N, mode='valid'))\n",
    "plt.title('Model loss')\n",
    "plt.ylabel('Loss')\n",
    "plt.xlabel('Epoch')\n",
    "plt.legend(labels = ['Loss', 'Moving Average Loss'])\n",
    "#plt.show()\n",
    "plt.savefig('loss_plot.png')"
   ]
  },
  {
   "cell_type": "code",
   "execution_count": 102,
   "metadata": {},
   "outputs": [
    {
     "data": {
      "text/plain": [
       "<Figure size 432x288 with 0 Axes>"
      ]
     },
     "metadata": {},
     "output_type": "display_data"
    }
   ],
   "source": []
  },
  {
   "cell_type": "code",
   "execution_count": 101,
   "metadata": {},
   "outputs": [
    {
     "name": "stdout",
     "output_type": "stream",
     "text": [
      "Nearest to whale: right, seas, ahab, the, large, animal, way, than,\n"
     ]
    }
   ],
   "source": [
    "sim_cb.probe_word('whale', dictionary, reverse_dictionary, vocabSize, similarityModel)"
   ]
  },
  {
   "cell_type": "markdown",
   "metadata": {},
   "source": [
    "## Compare LSI Word Representations to Deep Learning Embeddings"
   ]
  },
  {
   "cell_type": "markdown",
   "metadata": {},
   "source": [
    "## Save Trained Embeddings for Later Use"
   ]
  },
  {
   "cell_type": "markdown",
   "metadata": {},
   "source": [
    "## Load Pre-Trained Embeddings"
   ]
  },
  {
   "cell_type": "markdown",
   "metadata": {},
   "source": [
    "## Load Corpus of Categorized Documents"
   ]
  },
  {
   "cell_type": "markdown",
   "metadata": {},
   "source": [
    "## Define Deep Network to Categorize Documents Using Pre-Trained Embeddings"
   ]
  },
  {
   "cell_type": "markdown",
   "metadata": {},
   "source": [
    "## Train Network, Test Accuracy on Hold-out Set"
   ]
  },
  {
   "cell_type": "code",
   "execution_count": null,
   "metadata": {},
   "outputs": [],
   "source": []
  }
 ],
 "metadata": {
  "kernelspec": {
   "display_name": "Python 3",
   "language": "python",
   "name": "python3"
  },
  "language_info": {
   "codemirror_mode": {
    "name": "ipython",
    "version": 3
   },
   "file_extension": ".py",
   "mimetype": "text/x-python",
   "name": "python",
   "nbconvert_exporter": "python",
   "pygments_lexer": "ipython3",
   "version": "3.7.4"
  }
 },
 "nbformat": 4,
 "nbformat_minor": 4
}
